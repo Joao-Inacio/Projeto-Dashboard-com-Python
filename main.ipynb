{
 "cells": [
  {
   "cell_type": "markdown",
   "metadata": {},
   "source": [
    "#### Dashboard da COVID apenas com Python"
   ]
  },
  {
   "cell_type": "code",
   "execution_count": null,
   "metadata": {},
   "outputs": [],
   "source": [
    "# Importação das Bibliotecas\n",
    "import dash\n",
    "import dash_core_components as dcc\n",
    "import dash_html_components as html\n",
    "import dash_bootstrap_components as dbc\n",
    "from dash.dependencies import Input, Output\n",
    "\n",
    "import plotly.express as px\n",
    "import plotly.graph_objects as go\n",
    "\n",
    "import numpy as np\n",
    "import pandas as pd\n",
    "import json\n"
   ]
  },
  {
   "cell_type": "code",
   "execution_count": null,
   "metadata": {},
   "outputs": [],
   "source": [
    "# Importação da base de dados\n",
    "df = pd.read_csv(\"HIST_PAINEL_COVIDBR_2022_Parte1_04nov2022.csv\", sep=\";\")\n",
    "df.head(10)"
   ]
  },
  {
   "cell_type": "code",
   "execution_count": null,
   "metadata": {},
   "outputs": [],
   "source": [
    "# Tamanho \n",
    "df.shape"
   ]
  },
  {
   "cell_type": "code",
   "execution_count": null,
   "metadata": {},
   "outputs": [],
   "source": [
    "# Usando só com os estados\n",
    "df_states = df[(~df[\"estado\"].isna()) & (df[\"codmun\"].isna())]\n",
    "df_states"
   ]
  },
  {
   "cell_type": "code",
   "execution_count": null,
   "metadata": {},
   "outputs": [],
   "source": []
  },
  {
   "cell_type": "code",
   "execution_count": null,
   "metadata": {},
   "outputs": [],
   "source": [
    "#Pegando a região do brasil\n",
    "df_brasil = df[df[\"regiao\"] == \"Brasil\"]\n",
    "df_brasil"
   ]
  },
  {
   "cell_type": "code",
   "execution_count": null,
   "metadata": {},
   "outputs": [],
   "source": [
    "# Exportando\n",
    "df_states.to_csv(\"df_states.csv\")\n",
    "df_brasil.to_csv(\"df_brasil.csv\")"
   ]
  },
  {
   "cell_type": "code",
   "execution_count": null,
   "metadata": {},
   "outputs": [],
   "source": [
    "# Abrindo e lendo o Geo Json\n",
    "brazil_states = json.load(open(\"geojson/brazil_geo.json\", \"r\"))\n",
    "brazil_states"
   ]
  },
  {
   "cell_type": "code",
   "execution_count": null,
   "metadata": {},
   "outputs": [],
   "source": [
    "# ponto de partida\n",
    "df_states_ = df_states[df_states[\"data\"] == \"2022-01-01\"]"
   ]
  },
  {
   "cell_type": "code",
   "execution_count": null,
   "metadata": {},
   "outputs": [],
   "source": [
    "# Criando um app dash\n",
    "app = dash.Dash(__name__, external_stylesheets=[dbc.themes.CYBORG])\n",
    "# Criando o mapa\n",
    "fig = px.choropleth_mapbox(\n",
    "    df_states_, locations=\"estado\", color=\"casosNovos\", center={\"lat\": -16.95, \"lon\": -47.78}, geojson=brazil_states, color_continuous_scale=\"Redor\", opacity=0.4,\n",
    "    hover_data={\"casosAcumulado\": True, \"casosNovos\": True, \"obitosNovos\": True, \"estado\": True}\n",
    ")\n",
    "fig.update_layout(\n",
    "    mapbox_style=\"carto-darkmatter\"\n",
    ")\n",
    "# construindo o layout \n",
    "app.layout = dbc.Container(\n",
    "    dbc.Row([\n",
    "        dbc.Col([\n",
    "            dcc.Graph(id=\"choropleth-map\", figure=fig)\n",
    "        ])\n",
    "    ])\n",
    ")\n",
    "# rodando\n",
    "app.run_server(debug=True)"
   ]
  },
  {
   "cell_type": "code",
   "execution_count": null,
   "metadata": {},
   "outputs": [],
   "source": []
  },
  {
   "cell_type": "code",
   "execution_count": null,
   "metadata": {},
   "outputs": [],
   "source": []
  }
 ],
 "metadata": {
  "kernelspec": {
   "display_name": "Python 3.9.15 ('venv': venv)",
   "language": "python",
   "name": "python3"
  },
  "language_info": {
   "codemirror_mode": {
    "name": "ipython",
    "version": 3
   },
   "file_extension": ".py",
   "mimetype": "text/x-python",
   "name": "python",
   "nbconvert_exporter": "python",
   "pygments_lexer": "ipython3",
   "version": "3.7.3"
  },
  "orig_nbformat": 4,
  "vscode": {
   "interpreter": {
    "hash": "a022e42a48d3e563ef9a82284426511c3f4853eefcaf4d319bbd4f54617b75ef"
   }
  }
 },
 "nbformat": 4,
 "nbformat_minor": 2
}
